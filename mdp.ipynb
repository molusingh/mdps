{
 "cells": [
  {
   "cell_type": "code",
   "execution_count": null,
   "id": "064bf9bf-7f21-4d87-a6cf-1b23939603a2",
   "metadata": {},
   "outputs": [],
   "source": [
    "%matplotlib inline\n",
    "import matplotlib\n",
    "from matplotlib import pyplot as plt\n",
    "import pandas as pd\n",
    "import numpy as np\n",
    "import json\n",
    "import time\n",
    "\n",
    "from hiive.mdptoolbox import mdp, example\n",
    "from mdp import *\n",
    "import gym\n",
    "from openai import OpenAI_MDPToolbox # copied from https://github.com/hiive/hiivemdptoolbox/blob/master/hiive/mdptoolbox/openai.py\n",
    "\n",
    "# set up matplotlib\n",
    "is_ipython = 'inline' in matplotlib.get_backend()\n",
    "if is_ipython:\n",
    "    from IPython import display\n",
    "plt.ion()\n",
    "\n",
    "\"\"\"\n",
    "Author: Anmolbir Mann \n",
    "Email: amann33@gatech.edu \n",
    "CS7641 Assignment 4: MDP\n",
    "\n",
    "This Notebook is mainly for exploring/developing \n",
    "see/use final python script, main.py to generate final results\n",
    "\"\"\"\n",
    "\n",
    "RANDOM_SEED = 1994540101\n",
    "np.random.seed(RANDOM_SEED) # keep results consistent"
   ]
  },
  {
   "cell_type": "code",
   "execution_count": null,
   "id": "a082b4db-4f54-402d-b85d-f7e5e779d464",
   "metadata": {},
   "outputs": [],
   "source": [
    "P, R = example.forest(S=500, r1=4, r2=2, p=0.1, is_sparse=False)\n",
    "problem_name = \"Forest\""
   ]
  },
  {
   "cell_type": "code",
   "execution_count": null,
   "id": "12a07c58-d470-48bf-af36-ebef82106774",
   "metadata": {},
   "outputs": [],
   "source": [
    "lake = OpenAI_MDPToolbox('FrozenLake-v0', is_slippery=True)\n",
    "P = lake.P \n",
    "R = lake.R\n",
    "problem_name = \"FrozenLake\""
   ]
  },
  {
   "cell_type": "code",
   "execution_count": null,
   "id": "cfc72505-f7b7-4052-b0b9-a642888d5f0f",
   "metadata": {},
   "outputs": [],
   "source": [
    "gammas = [0.99, 0.9]\n",
    "kargs = {\n",
    "    \"P\": P, \n",
    "    \"R\": R,\n",
    "    \"problem_name\": problem_name,\n",
    "    \"output\": \"output\"\n",
    "}"
   ]
  },
  {
   "cell_type": "code",
   "execution_count": null,
   "id": "3640ce92-dd15-4831-b80c-6fe957ec9e69",
   "metadata": {},
   "outputs": [],
   "source": [
    "rewards, time, policies = run_iterations(gammas=gammas, value_iter=True, **kargs) # value iteration"
   ]
  },
  {
   "cell_type": "code",
   "execution_count": null,
   "id": "ebc8dc9f-6460-4037-82da-74ed70e89bdc",
   "metadata": {},
   "outputs": [],
   "source": [
    "#rewards, times, policies = run_qlearnings(P, R, params=[0.5, .9], n_iter=100000, param_alpha=False, show=True, problem_name=problem_name)"
   ]
  },
  {
   "cell_type": "code",
   "execution_count": null,
   "id": "3e0a11b6-aaef-4ecd-964b-21300c2f8018",
   "metadata": {},
   "outputs": [],
   "source": [
    "ql, q_results = q_learning(plot=True, **kargs, n_iter=100000,  alpha=0.1, alpha_min=0.05, e_decay=0.9999, e_min=0.1, epsilon=0.9, show=True, callback=callback)"
   ]
  },
  {
   "cell_type": "code",
   "execution_count": null,
   "id": "de65bc2b-e5e5-4808-bdf9-660f55a8ca35",
   "metadata": {},
   "outputs": [],
   "source": [
    "q_results[-1]"
   ]
  },
  {
   "cell_type": "code",
   "execution_count": null,
   "id": "e4d2d703-18a9-41f5-bb2c-0c2aaa387cca",
   "metadata": {},
   "outputs": [],
   "source": []
  }
 ],
 "metadata": {
  "kernelspec": {
   "display_name": "Python 3",
   "language": "python",
   "name": "python3"
  },
  "language_info": {
   "codemirror_mode": {
    "name": "ipython",
    "version": 3
   },
   "file_extension": ".py",
   "mimetype": "text/x-python",
   "name": "python",
   "nbconvert_exporter": "python",
   "pygments_lexer": "ipython3",
   "version": "3.7.10"
  }
 },
 "nbformat": 4,
 "nbformat_minor": 5
}
