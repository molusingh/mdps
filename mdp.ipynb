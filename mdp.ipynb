{
 "cells": [
  {
   "cell_type": "code",
   "execution_count": 1,
   "id": "064bf9bf-7f21-4d87-a6cf-1b23939603a2",
   "metadata": {},
   "outputs": [],
   "source": [
    "%matplotlib inline\n",
    "import matplotlib\n",
    "from matplotlib import pyplot as plt\n",
    "import pandas as pd\n",
    "import numpy as np\n",
    "import json\n",
    "import time\n",
    "\n",
    "from hiive.mdptoolbox import mdp, example\n",
    "from mdp import *\n",
    "import gym\n",
    "from openai import OpenAI_MDPToolbox # copied from https://github.com/hiive/hiivemdptoolbox/blob/master/hiive/mdptoolbox/openai.py\n",
    "\n",
    "# set up matplotlib\n",
    "is_ipython = 'inline' in matplotlib.get_backend()\n",
    "if is_ipython:\n",
    "    from IPython import display\n",
    "plt.ion()\n",
    "\n",
    "\"\"\"\n",
    "Author: Anmolbir Mann \n",
    "Email: amann33@gatech.edu \n",
    "CS7641 Assignment 4: MDP\n",
    "\n",
    "This Notebook is mainly for exploring/developing \n",
    "see/use final python script, main.py to generate final results\n",
    "\"\"\"\n",
    "\n",
    "RANDOM_SEED = 1994540101\n",
    "#np.random.seed(RANDOM_SEED) # keep results consistent"
   ]
  },
  {
   "cell_type": "code",
   "execution_count": 2,
   "id": "a082b4db-4f54-402d-b85d-f7e5e779d464",
   "metadata": {},
   "outputs": [],
   "source": [
    "P, R = example.forest(S=500, r1=4, r2=2, p=0.1, is_sparse=False)\n",
    "problem_name = \"Forest\""
   ]
  },
  {
   "cell_type": "code",
   "execution_count": 3,
   "id": "12a07c58-d470-48bf-af36-ebef82106774",
   "metadata": {},
   "outputs": [],
   "source": [
    "lake = OpenAI_MDPToolbox('FrozenLake-v0')\n",
    "P = lake.P \n",
    "R = lake.R\n",
    "problem_name = \"FrozenLake\""
   ]
  },
  {
   "cell_type": "code",
   "execution_count": 4,
   "id": "cfc72505-f7b7-4052-b0b9-a642888d5f0f",
   "metadata": {},
   "outputs": [],
   "source": [
    "gammas = [0.99, 0.9]\n",
    "kargs = {\n",
    "    \"P\": P, \n",
    "    \"R\": R,\n",
    "    \"problem_name\": problem_name,\n",
    "    \"output\": \"output\"\n",
    "}"
   ]
  },
  {
   "cell_type": "code",
   "execution_count": 5,
   "id": "3640ce92-dd15-4831-b80c-6fe957ec9e69",
   "metadata": {},
   "outputs": [
    {
     "name": "stdout",
     "output_type": "stream",
     "text": [
      "(0, 3, 3, 3, 0, 0, 0, 0, 3, 1, 0, 0, 0, 2, 1, 0)\n",
      "(0, 3, 0, 3, 0, 0, 0, 0, 3, 1, 0, 0, 0, 2, 1, 0)\n",
      "Problem: FrozenLake\n",
      "Function: Value_Iteration\n",
      "Policies for different gamma values:\n",
      "{'Gamma: 0.99': array([['<', '^', '^', '^'],\n",
      "       ['<', 'H', '<', 'H'],\n",
      "       ['^', 'V', '<', 'H'],\n",
      "       ['H', '>', 'V', 'G']], dtype='<U1'), 'Gamma: 0.9': array([['<', '^', '<', '^'],\n",
      "       ['<', 'H', '<', 'H'],\n",
      "       ['^', 'V', '<', 'H'],\n",
      "       ['H', '>', 'V', 'G']], dtype='<U1')}\n"
     ]
    },
    {
     "data": {
      "image/png": "[encoded data removed]",
      "text/plain": [
       "<Figure size 432x288 with 1 Axes>"
      ]
     },
     "metadata": {
      "needs_background": "light"
     },
     "output_type": "display_data"
    }
   ],
   "source": [
    "rewards, time, policies = run_iterations(gammas=gammas, value_iter=True, **kargs) # value iteration"
   ]
  },
  {
   "cell_type": "code",
   "execution_count": null,
   "id": "ebc8dc9f-6460-4037-82da-74ed70e89bdc",
   "metadata": {},
   "outputs": [],
   "source": [
    "rewards, times, policies = run_qlearnings(P, R, params=[0.95, 0.9], n_iter=1000000, param_alpha=False, show=True, problem_name=problem_name)"
   ]
  },
  {
   "cell_type": "code",
   "execution_count": 5,
   "id": "82953ff7-76d2-4ac2-8a31-03ed9b4173fc",
   "metadata": {},
   "outputs": [],
   "source": [
    "def callback(s, a, s_new):\n",
    "    grid =lake.env.desc.reshape(16)\n",
    "    state = grid[s_new].decode('UTF-8')\n",
    "    if state == 'H' or state == 'G':\n",
    "        return 0\n",
    "    return s_new"
   ]
  },
  {
   "cell_type": "code",
   "execution_count": 7,
   "id": "3e0a11b6-aaef-4ecd-964b-21300c2f8018",
   "metadata": {},
   "outputs": [
    {
     "name": "stdout",
     "output_type": "stream",
     "text": [
      "Q Learning time: 44.369224548339844\n",
      "policy: [['<' '<' '<' '<']\n",
      " ['<' 'H' '<' 'H']\n",
      " ['<' '<' '<' 'H']\n",
      " ['H' '<' '<' 'G']]\n"
     ]
    }
   ],
   "source": [
    "ql, q_results = q_learning(plot=True, **kargs, n_iter=1000000, e_min=0.001, alpha=0.001, e_decay=0.9999, callback=callback)"
   ]
  },
  {
   "cell_type": "code",
   "execution_count": null,
   "id": "66f65cb3-6981-4116-8a21-dd6e57b2d463",
   "metadata": {},
   "outputs": [],
   "source": []
  }
 ],
 "metadata": {
  "kernelspec": {
   "display_name": "Python 3",
   "language": "python",
   "name": "python3"
  },
  "language_info": {
   "codemirror_mode": {
    "name": "ipython",
    "version": 3
   },
   "file_extension": ".py",
   "mimetype": "text/x-python",
   "name": "python",
   "nbconvert_exporter": "python",
   "pygments_lexer": "ipython3",
   "version": "3.7.10"
  }
 },
 "nbformat": 4,
 "nbformat_minor": 5
}
