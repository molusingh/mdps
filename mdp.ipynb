{
 "cells": [
  {
   "cell_type": "code",
   "execution_count": 1,
   "id": "064bf9bf-7f21-4d87-a6cf-1b23939603a2",
   "metadata": {},
   "outputs": [],
   "source": [
    "%matplotlib inline\n",
    "import matplotlib\n",
    "from matplotlib import pyplot as plt\n",
    "import pandas as pd\n",
    "import numpy as np\n",
    "import json\n",
    "import time\n",
    "\n",
    "from hiive.mdptoolbox import mdp, example\n",
    "from mdp import run_iterations, q_learning\n",
    "\n",
    "# set up matplotlib\n",
    "is_ipython = 'inline' in matplotlib.get_backend()\n",
    "if is_ipython:\n",
    "    from IPython import display\n",
    "plt.ion()\n",
    "\n",
    "RANDOM_SEED = 1994540101\n",
    "np.random.seed(RANDOM_SEED) # keep results consistent"
   ]
  },
  {
   "cell_type": "code",
   "execution_count": 2,
   "id": "a082b4db-4f54-402d-b85d-f7e5e779d464",
   "metadata": {},
   "outputs": [],
   "source": [
    "P, R = example.forest(S=10, r1=40, r2=20, p=0.25, is_sparse=False)"
   ]
  },
  {
   "cell_type": "code",
   "execution_count": 5,
   "id": "a065e8eb-2185-40b9-8721-230a1216d3b5",
   "metadata": {},
   "outputs": [],
   "source": [
    "def q_learning(P, R, gamma=0.99 ,alpha=0.1, alpha_decay=0.99, alpha_min=0.001, e=1.0, e_min=0.1, e_decay=0.99, n_iter=10000):\n",
    "    args = {\n",
    "        \"alpha\": alpha,\n",
    "        \"alpha_decay\": alpha_decay,\n",
    "        \"alpha_min\": alpha_min,\n",
    "        \"epsilon\": e,\n",
    "        \"epsilon_min\": e_min,\n",
    "        \"epsilon_decay\": e_decay,\n",
    "        \"n_iter\": n_iter\n",
    "    }\n",
    "    ql = mdp.QLearning(P, R, gamma, **args) \n",
    "    ql_results = ql.run()\n",
    "    return ql, ql_results"
   ]
  },
  {
   "cell_type": "code",
   "execution_count": 6,
   "id": "53633d8d-8ba8-4ce6-9aa2-9cda3a07e515",
   "metadata": {},
   "outputs": [],
   "source": [
    "ql, q_results = q_learning(P, R)"
   ]
  },
  {
   "cell_type": "code",
   "execution_count": null,
   "id": "0e1654bb-49a8-4f84-83f5-061316b9ec66",
   "metadata": {},
   "outputs": [],
   "source": []
  }
 ],
 "metadata": {
  "kernelspec": {
   "display_name": "Python 3",
   "language": "python",
   "name": "python3"
  },
  "language_info": {
   "codemirror_mode": {
    "name": "ipython",
    "version": 3
   },
   "file_extension": ".py",
   "mimetype": "text/x-python",
   "name": "python",
   "nbconvert_exporter": "python",
   "pygments_lexer": "ipython3",
   "version": "3.7.10"
  }
 },
 "nbformat": 4,
 "nbformat_minor": 5
}
