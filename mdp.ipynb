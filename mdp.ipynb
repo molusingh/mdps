{
 "cells": [
  {
   "cell_type": "code",
   "execution_count": 1,
   "id": "064bf9bf-7f21-4d87-a6cf-1b23939603a2",
   "metadata": {},
   "outputs": [],
   "source": [
    "%matplotlib inline\n",
    "import matplotlib\n",
    "from matplotlib import pyplot as plt\n",
    "import pandas as pd\n",
    "import numpy as np\n",
    "import json\n",
    "import time\n",
    "\n",
    "from hiive.mdptoolbox import mdp, example\n",
    "from mdp import run_iterations, q_learning, run_qlearnings\n",
    "\n",
    "# set up matplotlib\n",
    "is_ipython = 'inline' in matplotlib.get_backend()\n",
    "if is_ipython:\n",
    "    from IPython import display\n",
    "plt.ion()\n",
    "\n",
    "RANDOM_SEED = 1994540101\n",
    "np.random.seed(RANDOM_SEED) # keep results consistent"
   ]
  },
  {
   "cell_type": "code",
   "execution_count": 2,
   "id": "a082b4db-4f54-402d-b85d-f7e5e779d464",
   "metadata": {},
   "outputs": [],
   "source": [
    "P, R = example.forest(S=20, r1=4, r2=2, p=0.1, is_sparse=False)"
   ]
  },
  {
   "cell_type": "code",
   "execution_count": 3,
   "id": "ebc8dc9f-6460-4037-82da-74ed70e89bdc",
   "metadata": {},
   "outputs": [
    {
     "name": "stdout",
     "output_type": "stream",
     "text": [
      "Problem: Forest\n",
      "Function: Q-Learning_different_epsilons\n",
      "Policies for different alphas values:\n",
      "{'epsilon: 0.95': (0, 1, 1, 1, 1, 1, 1, 0, 1, 1, 0, 0, 0, 1, 0, 1, 0, 1, 1, 0), 'epsilon: 0.9': (0, 1, 1, 1, 1, 1, 1, 0, 1, 0, 0, 0, 1, 1, 1, 1, 1, 0, 0, 0)}\n"
     ]
    }
   ],
   "source": [
    "rewards, times, policies = run_qlearnings(P, R, params=[0.95, 0.9], n_iter=10000, param_alpha=False)"
   ]
  },
  {
   "cell_type": "code",
   "execution_count": null,
   "id": "3e0a11b6-aaef-4ecd-964b-21300c2f8018",
   "metadata": {},
   "outputs": [],
   "source": []
  }
 ],
 "metadata": {
  "kernelspec": {
   "display_name": "Python 3",
   "language": "python",
   "name": "python3"
  },
  "language_info": {
   "codemirror_mode": {
    "name": "ipython",
    "version": 3
   },
   "file_extension": ".py",
   "mimetype": "text/x-python",
   "name": "python",
   "nbconvert_exporter": "python",
   "pygments_lexer": "ipython3",
   "version": "3.7.10"
  }
 },
 "nbformat": 4,
 "nbformat_minor": 5
}
